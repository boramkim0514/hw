{
  "nbformat": 4,
  "nbformat_minor": 0,
  "metadata": {
    "colab": {
      "name": "01.퍼셉트론_코드구현.ipynb",
      "provenance": [],
      "authorship_tag": "ABX9TyMz+zumNQVJjpv9ktMfnhgB",
      "include_colab_link": true
    },
    "kernelspec": {
      "name": "python3",
      "display_name": "Python 3"
    },
    "language_info": {
      "name": "python"
    }
  },
  "cells": [
    {
      "cell_type": "markdown",
      "metadata": {
        "id": "view-in-github",
        "colab_type": "text"
      },
      "source": [
        "<a href=\"https://colab.research.google.com/github/boramkim0514/hw/blob/boramkim0514-patch-1/01_%ED%8D%BC%EC%85%89%ED%8A%B8%EB%A1%A0_%EC%BD%94%EB%93%9C%EA%B5%AC%ED%98%84.ipynb\" target=\"_parent\"><img src=\"https://colab.research.google.com/assets/colab-badge.svg\" alt=\"Open In Colab\"/></a>"
      ]
    },
    {
      "cell_type": "markdown",
      "metadata": {
        "id": "j_h1bi39hfkN"
      },
      "source": [
        "#  반응  조건 계산식\n"
      ]
    },
    {
      "cell_type": "code",
      "metadata": {
        "id": "WyuqxsaQiyG_"
      },
      "source": [
        "import matplotlib.pyplot as plt\n",
        "import numpy as np"
      ],
      "execution_count": 2,
      "outputs": []
    },
    {
      "cell_type": "code",
      "metadata": {
        "id": "hDYw7jAQhrIG"
      },
      "source": [
        "def func(x1, x2): #  func : 퍼셉트론을 함수로 선언\n",
        "    w1, w2, theta = 0.5, 0.5, 2  #임의의 가중치 w1,  w2, 임계값 theta \n",
        "    y = w1*x1 + w2*x2 \n",
        "\n",
        "    return y, y >= theta"
      ],
      "execution_count": 4,
      "outputs": []
    },
    {
      "cell_type": "markdown",
      "metadata": {
        "id": "uFLRLrqsiuFX"
      },
      "source": [
        "#  AND 게이트 구현"
      ]
    },
    {
      "cell_type": "code",
      "metadata": {
        "colab": {
          "base_uri": "https://localhost:8080/"
        },
        "id": "_TfRReBnpe6D",
        "outputId": "7f1dc181-39ac-4e23-dd1b-625bc5a50400"
      },
      "source": [
        "def AND(x1, x2):\n",
        "\n",
        "    w1, w2, theta = 0.5, 0.5, 0.7\n",
        "    tmp = w1*x1 + w2*x2\n",
        "\n",
        "    if tmp > theta:\n",
        "        return 1\n",
        "    else:\n",
        "        return 0\n",
        "        \n",
        "AND(0, 0), AND(1, 0), AND(0, 1), AND(1, 1)"
      ],
      "execution_count": 21,
      "outputs": [
        {
          "output_type": "execute_result",
          "data": {
            "text/plain": [
              "(0, 0, 0, 1)"
            ]
          },
          "metadata": {
            "tags": []
          },
          "execution_count": 21
        }
      ]
    },
    {
      "cell_type": "code",
      "metadata": {
        "colab": {
          "base_uri": "https://localhost:8080/"
        },
        "id": "Uq4Q3QKUj4Wf",
        "outputId": "a69bb0f7-47cd-4fda-940c-84a4c0f3553f"
      },
      "source": [
        "# AND 게이트 구현 2\n",
        "def AND(x1, x2):\n",
        "    w1, w2, theta = 0.5, 0.5, 0.7\n",
        "    z = w1*x1 + w2*x2 - theta\n",
        "\n",
        "    return int(z > 0)\n",
        "\n",
        "AND(0, 0), AND(1, 0), AND(0, 1), AND(1, 1)"
      ],
      "execution_count": 8,
      "outputs": [
        {
          "output_type": "execute_result",
          "data": {
            "text/plain": [
              "(0, 0, 0, 1)"
            ]
          },
          "metadata": {
            "tags": []
          },
          "execution_count": 8
        }
      ]
    },
    {
      "cell_type": "code",
      "metadata": {
        "colab": {
          "base_uri": "https://localhost:8080/"
        },
        "id": "CsU2y56BmSzw",
        "outputId": "3be2c1d3-e733-4d1c-9abb-1827ead942c7"
      },
      "source": [
        "x = np.array([0, 1])\n",
        "w = np.array([0.5, 0.5])\n",
        "b = -0.7 #theta가 0.7이어서 bias는 -0.7\n",
        "\n",
        "print(w*x)\n",
        "print(np.sum(w*x))\n",
        "print(np.sum(w*x) + b)\n",
        "print(np.sum(w*x) + b > 0)"
      ],
      "execution_count": 9,
      "outputs": [
        {
          "output_type": "stream",
          "text": [
            "[0.  0.5]\n",
            "0.5\n",
            "-0.19999999999999996\n",
            "False\n"
          ],
          "name": "stdout"
        }
      ]
    },
    {
      "cell_type": "code",
      "metadata": {
        "colab": {
          "base_uri": "https://localhost:8080/"
        },
        "id": "57U9bbMkoHfv",
        "outputId": "ebc7a771-2c23-4acc-dd05-178e46326318"
      },
      "source": [
        "def AND(x1, x2):\n",
        "    x = np.array([x1, x2])\n",
        "    w = np.array([0.5, 0.5])\n",
        "    b = -0.7\n",
        "\n",
        "    z = np.sum(x * w) + b\n",
        "\n",
        "    return int(z > 0) \n",
        "\n",
        "AND(0, 0), AND(1, 0), AND(0, 1), AND(1, 1)"
      ],
      "execution_count": 18,
      "outputs": [
        {
          "output_type": "execute_result",
          "data": {
            "text/plain": [
              "(0, 0, 0, 1)"
            ]
          },
          "metadata": {
            "tags": []
          },
          "execution_count": 18
        }
      ]
    },
    {
      "cell_type": "markdown",
      "metadata": {
        "id": "yu-R8CvBoxAr"
      },
      "source": [
        "# NAND  게이트 구현\n"
      ]
    },
    {
      "cell_type": "code",
      "metadata": {
        "colab": {
          "base_uri": "https://localhost:8080/"
        },
        "id": "qLfj4Jtdp9R9",
        "outputId": "fbd65148-42a5-4299-cb17-23bd4f4c3989"
      },
      "source": [
        "def NAND(x1, x2):\n",
        "    # 가중치와 편향의 부호 반대로\n",
        "    x = np.array([x1, x2])\n",
        "    w = np.array([-0.5, -0.5])\n",
        "    b = 0.7\n",
        "\n",
        "    z = np.sum(x*x) + b\n",
        "\n",
        "    return int( z > 0)\n",
        "\n",
        "NAND(0, 0), NAND(1, 0), NAND(0, 1), NAND(1, 1)"
      ],
      "execution_count": 22,
      "outputs": [
        {
          "output_type": "execute_result",
          "data": {
            "text/plain": [
              "(1, 1, 1, 1)"
            ]
          },
          "metadata": {
            "tags": []
          },
          "execution_count": 22
        }
      ]
    },
    {
      "cell_type": "markdown",
      "metadata": {
        "id": "SNdMWtAzqZfc"
      },
      "source": [
        "# OR 게이트\n",
        "\n",
        "AND  게이트의 매개변수 b 적절히 조절"
      ]
    },
    {
      "cell_type": "code",
      "metadata": {
        "colab": {
          "base_uri": "https://localhost:8080/"
        },
        "id": "t-amT4sOqdN9",
        "outputId": "3910557e-b099-4337-c6b1-110a3101c97f"
      },
      "source": [
        "def OR(x1, x2):\n",
        "    x = np.array([x1, x2])\n",
        "    w = np.array([0.5, 0.5])\n",
        "    b = -0.2\n",
        "\n",
        "    z = np.sum(w*x) + b\n",
        "\n",
        "    return int( z > 0 )\n",
        "\n",
        "OR(0, 0), OR(1, 0), OR(0, 1), OR(1, 1)"
      ],
      "execution_count": 23,
      "outputs": [
        {
          "output_type": "execute_result",
          "data": {
            "text/plain": [
              "(0, 1, 1, 1)"
            ]
          },
          "metadata": {
            "tags": []
          },
          "execution_count": 23
        }
      ]
    },
    {
      "cell_type": "markdown",
      "metadata": {
        "id": "bYkc1NDxq3Hg"
      },
      "source": [
        "다층 퍼셉트론으로 단층 퍼센트론의 한계를 해결 할 수 있음"
      ]
    },
    {
      "cell_type": "markdown",
      "metadata": {
        "id": "uN15jOEprOmU"
      },
      "source": [
        "#  XOR 구현\n"
      ]
    },
    {
      "cell_type": "code",
      "metadata": {
        "colab": {
          "base_uri": "https://localhost:8080/"
        },
        "id": "PywCxLAGrS5g",
        "outputId": "7b9eca94-1034-46fe-bd58-e0a3f64133ab"
      },
      "source": [
        "def XOR(x1, x2):\n",
        "    s1 = NAND(x1, x2)\n",
        "    s2 = OR(x1, x2)\n",
        "\n",
        "    #NAND와 OR의 결과물인 s1, s2를 AND  게이트 입력값으로 사용하면 XOR 의 결과물이 됨   \n",
        "\n",
        "    y = AND(s1, s2)\n",
        "\n",
        "    return y\n",
        "\n",
        "XOR(0, 0), XOR(1, 0), XOR(0, 1), XOR(1, 1)"
      ],
      "execution_count": 24,
      "outputs": [
        {
          "output_type": "execute_result",
          "data": {
            "text/plain": [
              "(0, 1, 1, 1)"
            ]
          },
          "metadata": {
            "tags": []
          },
          "execution_count": 24
        }
      ]
    },
    {
      "cell_type": "code",
      "metadata": {
        "id": "_7iFgM_Qr-pU"
      },
      "source": [
        ""
      ],
      "execution_count": null,
      "outputs": []
    }
  ]
}