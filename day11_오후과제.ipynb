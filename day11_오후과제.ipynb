{
  "nbformat": 4,
  "nbformat_minor": 0,
  "metadata": {
    "colab": {
      "name": "day11_오후과제.ipynb",
      "provenance": [],
      "collapsed_sections": [],
      "authorship_tag": "ABX9TyOEqvRzSDr0BCcE1GOYmBdh",
      "include_colab_link": true
    },
    "kernelspec": {
      "name": "python3",
      "display_name": "Python 3"
    },
    "language_info": {
      "name": "python"
    }
  },
  "cells": [
    {
      "cell_type": "markdown",
      "metadata": {
        "id": "view-in-github",
        "colab_type": "text"
      },
      "source": [
        "<a href=\"https://colab.research.google.com/github/boramkim0514/hw/blob/boramkim0514-patch-1/day11_%EC%98%A4%ED%9B%84%EA%B3%BC%EC%A0%9C.ipynb\" target=\"_parent\"><img src=\"https://colab.research.google.com/assets/colab-badge.svg\" alt=\"Open In Colab\"/></a>"
      ]
    },
    {
      "cell_type": "code",
      "metadata": {
        "id": "y3oDlGECncBU"
      },
      "source": [
        "import numpy as np\n",
        "import pandas as pd"
      ],
      "execution_count": null,
      "outputs": []
    },
    {
      "cell_type": "code",
      "metadata": {
        "id": "fd5UuciZoNHk"
      },
      "source": [
        "np3 = np.arange(10, 241, 10)"
      ],
      "execution_count": null,
      "outputs": []
    },
    {
      "cell_type": "code",
      "metadata": {
        "colab": {
          "base_uri": "https://localhost:8080/"
        },
        "id": "fwgBGdNPoNiE",
        "outputId": "cc59a9c8-b9d3-4ab1-8e27-6a80b4a54427"
      },
      "source": [
        "np3"
      ],
      "execution_count": null,
      "outputs": [
        {
          "output_type": "execute_result",
          "data": {
            "text/plain": [
              "array([ 10,  20,  30,  40,  50,  60,  70,  80,  90, 100, 110, 120, 130,\n",
              "       140, 150, 160, 170, 180, 190, 200, 210, 220, 230, 240])"
            ]
          },
          "metadata": {
            "tags": []
          },
          "execution_count": 104
        }
      ]
    },
    {
      "cell_type": "code",
      "metadata": {
        "colab": {
          "base_uri": "https://localhost:8080/"
        },
        "id": "xmye2S6XoQBM",
        "outputId": "ee3b90e0-3c97-42c4-9c86-193ffaad59e1"
      },
      "source": [
        "np3.shape"
      ],
      "execution_count": null,
      "outputs": [
        {
          "output_type": "execute_result",
          "data": {
            "text/plain": [
              "(24,)"
            ]
          },
          "metadata": {
            "tags": []
          },
          "execution_count": 105
        }
      ]
    },
    {
      "cell_type": "code",
      "metadata": {
        "colab": {
          "base_uri": "https://localhost:8080/"
        },
        "id": "7yKnKY1PocQz",
        "outputId": "6804d375-f687-4af8-e93c-7b9344104c78"
      },
      "source": [
        "np3.reshape(2, 12)"
      ],
      "execution_count": null,
      "outputs": [
        {
          "output_type": "execute_result",
          "data": {
            "text/plain": [
              "array([[ 10,  20,  30,  40,  50,  60,  70,  80,  90, 100, 110, 120],\n",
              "       [130, 140, 150, 160, 170, 180, 190, 200, 210, 220, 230, 240]])"
            ]
          },
          "metadata": {
            "tags": []
          },
          "execution_count": 106
        }
      ]
    },
    {
      "cell_type": "code",
      "metadata": {
        "id": "9Z6iLwnLpZKT"
      },
      "source": [
        ""
      ],
      "execution_count": null,
      "outputs": []
    },
    {
      "cell_type": "code",
      "metadata": {
        "id": "RbXbdCn_oscb"
      },
      "source": [
        "np333= np3.reshape(2,3,4)"
      ],
      "execution_count": null,
      "outputs": []
    },
    {
      "cell_type": "code",
      "metadata": {
        "colab": {
          "base_uri": "https://localhost:8080/"
        },
        "id": "bvLM03FxotEj",
        "outputId": "34fc816a-226d-40f6-baff-37d901f0c4d8"
      },
      "source": [
        "np333"
      ],
      "execution_count": null,
      "outputs": [
        {
          "output_type": "execute_result",
          "data": {
            "text/plain": [
              "array([[[ 10,  20,  30,  40],\n",
              "        [ 50,  60,  70,  80],\n",
              "        [ 90, 100, 110, 120]],\n",
              "\n",
              "       [[130, 140, 150, 160],\n",
              "        [170, 180, 190, 200],\n",
              "        [210, 220, 230, 240]]])"
            ]
          },
          "metadata": {
            "tags": []
          },
          "execution_count": 108
        }
      ]
    },
    {
      "cell_type": "markdown",
      "metadata": {
        "id": "VBAemCxRpRZE"
      },
      "source": [
        "#1문제"
      ]
    },
    {
      "cell_type": "markdown",
      "metadata": {
        "id": "e77PjsJepQGV"
      },
      "source": [
        ""
      ]
    },
    {
      "cell_type": "code",
      "metadata": {
        "colab": {
          "base_uri": "https://localhost:8080/"
        },
        "id": "cSLxQBIspWRq",
        "outputId": "777308e5-0c20-43c0-ba70-eea809dc2501"
      },
      "source": [
        "np333[0,0,2]"
      ],
      "execution_count": null,
      "outputs": [
        {
          "output_type": "execute_result",
          "data": {
            "text/plain": [
              "30"
            ]
          },
          "metadata": {
            "tags": []
          },
          "execution_count": 109
        }
      ]
    },
    {
      "cell_type": "markdown",
      "metadata": {
        "id": "HyK9T0i9slXq"
      },
      "source": [
        "2문제"
      ]
    },
    {
      "cell_type": "code",
      "metadata": {
        "colab": {
          "base_uri": "https://localhost:8080/"
        },
        "id": "nLJD82erpVJc",
        "outputId": "523fbc55-2eba-4b7e-dc3b-352afc510d61"
      },
      "source": [
        "np333[0:1,2]"
      ],
      "execution_count": null,
      "outputs": [
        {
          "output_type": "execute_result",
          "data": {
            "text/plain": [
              "array([[ 90, 100, 110, 120]])"
            ]
          },
          "metadata": {
            "tags": []
          },
          "execution_count": 110
        }
      ]
    },
    {
      "cell_type": "markdown",
      "metadata": {
        "id": "niQEcxWusnnK"
      },
      "source": [
        "3문제"
      ]
    },
    {
      "cell_type": "code",
      "metadata": {
        "colab": {
          "base_uri": "https://localhost:8080/"
        },
        "id": "Fz2X80T2rXt_",
        "outputId": "3876da11-6d4d-448f-dad0-cd3d1608774e"
      },
      "source": [
        "np333[1,1:, :2]"
      ],
      "execution_count": null,
      "outputs": [
        {
          "output_type": "execute_result",
          "data": {
            "text/plain": [
              "array([[170, 180],\n",
              "       [210, 220]])"
            ]
          },
          "metadata": {
            "tags": []
          },
          "execution_count": 111
        }
      ]
    },
    {
      "cell_type": "markdown",
      "metadata": {
        "id": "4N_5kMJOssm8"
      },
      "source": [
        "4문제"
      ]
    },
    {
      "cell_type": "code",
      "metadata": {
        "colab": {
          "base_uri": "https://localhost:8080/"
        },
        "id": "PyygOpKcspTk",
        "outputId": "585fcf7c-d317-40b3-e16d-09df80230a51"
      },
      "source": [
        "np333[0:2, 1:3, 2:], np333[0:2, 1:3, 2:]"
      ],
      "execution_count": 128,
      "outputs": [
        {
          "output_type": "execute_result",
          "data": {
            "text/plain": [
              "array([[[ 70,  80],\n",
              "        [110, 120]],\n",
              "\n",
              "       [[190, 200],\n",
              "        [230, 240]]])"
            ]
          },
          "metadata": {
            "tags": []
          },
          "execution_count": 128
        }
      ]
    },
    {
      "cell_type": "code",
      "metadata": {
        "colab": {
          "base_uri": "https://localhost:8080/"
        },
        "id": "vslAw2ejs9CJ",
        "outputId": "f176d087-6d43-4416-8be5-05a85809b528"
      },
      "source": [
        "np333[1, 0, 3] #160 좌표값"
      ],
      "execution_count": 127,
      "outputs": [
        {
          "output_type": "execute_result",
          "data": {
            "text/plain": [
              "160"
            ]
          },
          "metadata": {
            "tags": []
          },
          "execution_count": 127
        }
      ]
    },
    {
      "cell_type": "code",
      "metadata": {
        "colab": {
          "base_uri": "https://localhost:8080/"
        },
        "id": "ilCX_6EExkNX",
        "outputId": "dede5d57-a102-4a37-f478-48f1051cf363"
      },
      "source": [
        "np333[1, 0, 3] -10 #150으로 치환"
      ],
      "execution_count": 132,
      "outputs": [
        {
          "output_type": "execute_result",
          "data": {
            "text/plain": [
              "150"
            ]
          },
          "metadata": {
            "tags": []
          },
          "execution_count": 132
        }
      ]
    },
    {
      "cell_type": "code",
      "metadata": {
        "id": "tm3ShAtXzwp_",
        "colab": {
          "base_uri": "https://localhost:8080/"
        },
        "outputId": "53fa0e8d-2b02-4273-c3e3-44c266dd5703"
      },
      "source": [
        "np333[0:2, 1:3, 2:] "
      ],
      "execution_count": 131,
      "outputs": [
        {
          "output_type": "execute_result",
          "data": {
            "text/plain": [
              "array([[[ 70,  80],\n",
              "        [110, 120]],\n",
              "\n",
              "       [[190, 200],\n",
              "        [230, 240]]])"
            ]
          },
          "metadata": {
            "tags": []
          },
          "execution_count": 131
        }
      ]
    },
    {
      "cell_type": "code",
      "metadata": {
        "id": "X-y4xR4z1LHO"
      },
      "source": [
        ""
      ],
      "execution_count": null,
      "outputs": []
    }
  ]
}