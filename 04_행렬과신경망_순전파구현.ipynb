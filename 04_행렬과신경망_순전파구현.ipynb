{
  "nbformat": 4,
  "nbformat_minor": 0,
  "metadata": {
    "colab": {
      "name": "04.행렬과신경망_순전파구현.ipynb",
      "provenance": [],
      "authorship_tag": "ABX9TyP74KuZ2BZlcg9jvVTGZmAj",
      "include_colab_link": true
    },
    "kernelspec": {
      "name": "python3",
      "display_name": "Python 3"
    },
    "language_info": {
      "name": "python"
    }
  },
  "cells": [
    {
      "cell_type": "markdown",
      "metadata": {
        "id": "view-in-github",
        "colab_type": "text"
      },
      "source": [
        "<a href=\"https://colab.research.google.com/github/boramkim0514/hw/blob/boramkim0514-patch-1/04_%ED%96%89%EB%A0%AC%EA%B3%BC%EC%8B%A0%EA%B2%BD%EB%A7%9D_%EC%88%9C%EC%A0%84%ED%8C%8C%EA%B5%AC%ED%98%84.ipynb\" target=\"_parent\"><img src=\"https://colab.research.google.com/assets/colab-badge.svg\" alt=\"Open In Colab\"/></a>"
      ]
    },
    {
      "cell_type": "markdown",
      "metadata": {
        "id": "aXHzUkVmBSxA"
      },
      "source": [
        "#  순전파(Forward Propagation) 구현"
      ]
    },
    {
      "cell_type": "markdown",
      "metadata": {
        "id": "BfAyvAYSnVSX"
      },
      "source": [
        "### 네트워크 초기화로 가중치 편향  설정"
      ]
    },
    {
      "cell_type": "code",
      "metadata": {
        "id": "ZRagIQACBk6P"
      },
      "source": [
        "\n",
        "def initial_network():\n",
        "  network = {}\n",
        "\n",
        "  # 1층 매개변수 초기화\n",
        "  network[\"W1\"] = np.array([[0.1, 0.3, 0.5], #W1의 배열 (2,3)\n",
        "                            [0.2, 0.4, 0.6]])  \n",
        "  network[\"B1\"] = np.array([0.1, 0.2, 0.3])  #B1 배열  (3,)\n",
        "\n",
        "  # 2층 매개변수 초기화\n",
        "  network[\"W2\"] = np.array([[0.1, 0.4],  #(3,2)\n",
        "                            [0.2, 0.5],\n",
        "                            [0.3, 0.6]])\n",
        "  network[\"B2\"] = np.array([0.1, 0.2])  #  (2,)\n",
        "\n",
        "  # 3층 매개변수 초기화\n",
        "  network[\"W3\"] = np.array([[0.1, 0.3],  #(2,2)\n",
        "                            [0.2, 0.4]])  \n",
        "  network[\"B3\"] = np.array([0.1, 0.2])  #(2,)\n",
        "  \n",
        "  return network "
      ],
      "execution_count": 279,
      "outputs": []
    },
    {
      "cell_type": "code",
      "metadata": {
        "colab": {
          "base_uri": "https://localhost:8080/"
        },
        "id": "hTkOtSR0Tkc1",
        "outputId": "69795ae7-925e-4107-e4c9-4b9a8a79ec47"
      },
      "source": [
        "initial_network() #initial_network에 데이터들이 제대로 들어갔는지 궁금해서"
      ],
      "execution_count": 280,
      "outputs": [
        {
          "output_type": "execute_result",
          "data": {
            "text/plain": [
              "{'B1': array([0.1, 0.2, 0.3]),\n",
              " 'B2': array([0.1, 0.2]),\n",
              " 'B3': array([0.1, 0.2]),\n",
              " 'W1': array([[0.1, 0.3, 0.5],\n",
              "        [0.2, 0.4, 0.6]]),\n",
              " 'W2': array([[0.1, 0.4],\n",
              "        [0.2, 0.5],\n",
              "        [0.3, 0.6]]),\n",
              " 'W3': array([[0.1, 0.3],\n",
              "        [0.2, 0.4]])}"
            ]
          },
          "metadata": {
            "tags": []
          },
          "execution_count": 280
        }
      ]
    },
    {
      "cell_type": "markdown",
      "metadata": {
        "id": "vVWh7oqVnZ5Y"
      },
      "source": [
        "###  3층의 순전파 신경망 설계 "
      ]
    },
    {
      "cell_type": "code",
      "metadata": {
        "id": "IqU-XqWWEXb-"
      },
      "source": [
        "# 순전파 신경망 -> WX + B 퍼셉트론으로 3층의 신경망 설계 \n",
        "def forward(network, x): #위의 return  값으로 받은 network와, x 를  파라미터로 받을거임\n",
        "    # 가중치와 편향 언패킹\n",
        "    W1, W2, W3 = network[\"W1\"], network[\"W2\"], network[\"W3\"] #network 변수 안의 가중치 W 언패킹해줘   \n",
        "    B1, B2, B3 = network[\"B1\"], network[\"B2\"], network[\"B3\"] # network 변수 안의 편향들을 언패킹해줘\n",
        "\n",
        "    #  1층 계산\n",
        "    Z1 = W1 @ x + B1 \n",
        "    A1 = sigmoid(Z1) #활성화 함수 sigmoid를 사용\n",
        "\n",
        "    #  2층 계산\n",
        "    Z2 = W2 @ A1 + B2\n",
        "    A2 = sigmoid(Z2)\n",
        "\n",
        "    #  3층 계산\n",
        "    Z3 = W3 * A2 + B3\n",
        "    y = identity_function(Z3)\n",
        "\n",
        "    return y"
      ],
      "execution_count": 281,
      "outputs": []
    },
    {
      "cell_type": "markdown",
      "metadata": {
        "id": "MBva9u9domG9"
      },
      "source": [
        "### 순전파 테스트"
      ]
    },
    {
      "cell_type": "code",
      "metadata": {
        "colab": {
          "base_uri": "https://localhost:8080/",
          "height": 373
        },
        "id": "71KqC50zoq64",
        "outputId": "89d68807-9e81-4496-d958-182e8fdd9e21"
      },
      "source": [
        "network = initial_network() \n",
        "x = np.array([1.0, 2.0]) #x 배열은 (2,) 였음!!  W1의 배열 (2,3)이랑 달라서 에러남\n",
        "y = forward(network, x)\n",
        "print(y)"
      ],
      "execution_count": 282,
      "outputs": [
        {
          "output_type": "error",
          "ename": "ValueError",
          "evalue": "ignored",
          "traceback": [
            "\u001b[0;31m---------------------------------------------------------------------------\u001b[0m",
            "\u001b[0;31mValueError\u001b[0m                                Traceback (most recent call last)",
            "\u001b[0;32m<ipython-input-282-0cf037da9224>\u001b[0m in \u001b[0;36m<module>\u001b[0;34m()\u001b[0m\n\u001b[1;32m      1\u001b[0m \u001b[0mnetwork\u001b[0m \u001b[0;34m=\u001b[0m \u001b[0minitial_network\u001b[0m\u001b[0;34m(\u001b[0m\u001b[0;34m)\u001b[0m\u001b[0;34m\u001b[0m\u001b[0;34m\u001b[0m\u001b[0m\n\u001b[1;32m      2\u001b[0m \u001b[0mx\u001b[0m \u001b[0;34m=\u001b[0m \u001b[0mnp\u001b[0m\u001b[0;34m.\u001b[0m\u001b[0marray\u001b[0m\u001b[0;34m(\u001b[0m\u001b[0;34m[\u001b[0m\u001b[0;36m1.0\u001b[0m\u001b[0;34m,\u001b[0m \u001b[0;36m2.0\u001b[0m\u001b[0;34m]\u001b[0m\u001b[0;34m)\u001b[0m \u001b[0;31m#x  배열은 (2,) 였음!!  W1의 배열 (2,3)이랑 달라서 에러남\u001b[0m\u001b[0;34m\u001b[0m\u001b[0;34m\u001b[0m\u001b[0m\n\u001b[0;32m----> 3\u001b[0;31m \u001b[0my\u001b[0m \u001b[0;34m=\u001b[0m \u001b[0mforward\u001b[0m\u001b[0;34m(\u001b[0m\u001b[0mnetwork\u001b[0m\u001b[0;34m,\u001b[0m \u001b[0mx\u001b[0m\u001b[0;34m)\u001b[0m\u001b[0;34m\u001b[0m\u001b[0;34m\u001b[0m\u001b[0m\n\u001b[0m\u001b[1;32m      4\u001b[0m \u001b[0mprint\u001b[0m\u001b[0;34m(\u001b[0m\u001b[0my\u001b[0m\u001b[0;34m)\u001b[0m\u001b[0;34m\u001b[0m\u001b[0;34m\u001b[0m\u001b[0m\n",
            "\u001b[0;32m<ipython-input-281-991d137c40d6>\u001b[0m in \u001b[0;36mforward\u001b[0;34m(network, x)\u001b[0m\n\u001b[1;32m      6\u001b[0m \u001b[0;34m\u001b[0m\u001b[0m\n\u001b[1;32m      7\u001b[0m     \u001b[0;31m#  1층 계산\u001b[0m\u001b[0;34m\u001b[0m\u001b[0;34m\u001b[0m\u001b[0;34m\u001b[0m\u001b[0m\n\u001b[0;32m----> 8\u001b[0;31m     \u001b[0mZ1\u001b[0m \u001b[0;34m=\u001b[0m \u001b[0mW1\u001b[0m \u001b[0;34m@\u001b[0m \u001b[0mx\u001b[0m \u001b[0;34m+\u001b[0m \u001b[0mB1\u001b[0m\u001b[0;34m\u001b[0m\u001b[0;34m\u001b[0m\u001b[0m\n\u001b[0m\u001b[1;32m      9\u001b[0m     \u001b[0mA1\u001b[0m \u001b[0;34m=\u001b[0m \u001b[0msigmoid\u001b[0m\u001b[0;34m(\u001b[0m\u001b[0mZ1\u001b[0m\u001b[0;34m)\u001b[0m \u001b[0;31m#활성화 함수 sigmoid를 사용\u001b[0m\u001b[0;34m\u001b[0m\u001b[0;34m\u001b[0m\u001b[0m\n\u001b[1;32m     10\u001b[0m \u001b[0;34m\u001b[0m\u001b[0m\n",
            "\u001b[0;31mValueError\u001b[0m: matmul: Input operand 1 has a mismatch in its core dimension 0, with gufunc signature (n?,k),(k,m?)->(n?,m?) (size 2 is different from 3)"
          ]
        }
      ]
    },
    {
      "cell_type": "code",
      "metadata": {
        "id": "A-Bp6rqjuIk0"
      },
      "source": [
        "#  1층 계산\n",
        "# Z1 = W1 @ x + B1 -> (2, 3) @ x(3,)"
      ],
      "execution_count": null,
      "outputs": []
    },
    {
      "cell_type": "code",
      "metadata": {
        "id": "KVgL9UMGsZBE"
      },
      "source": [
        "network = initial_network() \n",
        "x = np.array([[1.0], [2.0], [3.0]]) #내적 연산을 가능하게 하기위해 W1의 배열 (2,3)과 맞춰줌\n",
        "y = forward(network, x)\n",
        "print(y)"
      ],
      "execution_count": null,
      "outputs": []
    },
    {
      "cell_type": "code",
      "metadata": {
        "id": "dKO1tPIftitR"
      },
      "source": [
        "x.shape"
      ],
      "execution_count": null,
      "outputs": []
    },
    {
      "cell_type": "code",
      "metadata": {
        "id": "CsaJjjR8tlBC"
      },
      "source": [
        ""
      ],
      "execution_count": null,
      "outputs": []
    },
    {
      "cell_type": "markdown",
      "metadata": {
        "id": "Uf9qjoHaorzQ"
      },
      "source": [
        "###  기타 확인용"
      ]
    },
    {
      "cell_type": "code",
      "metadata": {
        "id": "BDSVT1u0TzzW"
      },
      "source": [
        "type(initial_network) #객채 자료형은 함수도 가능함"
      ],
      "execution_count": null,
      "outputs": []
    },
    {
      "cell_type": "code",
      "metadata": {
        "id": "YZstHCI3FW-w"
      },
      "source": [
        "type(i)  #initial_network의 원소들은 다 딕셔너리 형태로 넣어서 자료형  확인했는데....왜 딕셔너리가 아닌건지??"
      ],
      "execution_count": null,
      "outputs": []
    },
    {
      "cell_type": "code",
      "metadata": {
        "id": "glBqVcc1UkCJ"
      },
      "source": [
        "type(network) #dictionary가 나올줄 알았는데?? "
      ],
      "execution_count": null,
      "outputs": []
    },
    {
      "cell_type": "code",
      "metadata": {
        "id": "2DSqgCYbTO1r"
      },
      "source": [
        "for i in initial_network(): #for문으로 순차적으로 initial_network  함수 안에 있는 원소들 꺼내기\n",
        "    print(i)  #key만 나왔다!  "
      ],
      "execution_count": null,
      "outputs": []
    },
    {
      "cell_type": "code",
      "metadata": {
        "id": "8ChiUgjhWxte"
      },
      "source": [
        "forward[\"W1\"]  #  W1의 values 값들이 나올줄 알았는데..."
      ],
      "execution_count": null,
      "outputs": []
    },
    {
      "cell_type": "code",
      "metadata": {
        "id": "0ipCBQe_CBR5"
      },
      "source": [
        "#순전파 테스트 나중에 다시 돌아와야겠다...."
      ],
      "execution_count": null,
      "outputs": []
    }
  ]
}